{
 "cells": [
  {
   "cell_type": "code",
   "execution_count": 83,
   "metadata": {},
   "outputs": [],
   "source": [
    "%matplotlib inline\n",
    "import numpy as np\n",
    "import pandas as pd\n",
    "import matplotlib.pyplot as plt\n",
    "import seaborn as sns\n",
    "sns.set(style=\"darkgrid\")"
   ]
  },
  {
   "cell_type": "code",
   "execution_count": 84,
   "metadata": {},
   "outputs": [
    {
     "name": "stdout",
     "output_type": "stream",
     "text": [
      "train data:  (891, 12)\n",
      "test data:  (418, 11)\n"
     ]
    }
   ],
   "source": [
    "train = pd.read_csv('train.csv')\n",
    "test = pd.read_csv('test.csv')\n",
    "print('train data: ',train.shape)\n",
    "print('test data: ',test.shape)"
   ]
  },
  {
   "cell_type": "code",
   "execution_count": 85,
   "metadata": {},
   "outputs": [
    {
     "data": {
      "text/html": [
       "<div>\n",
       "<style scoped>\n",
       "    .dataframe tbody tr th:only-of-type {\n",
       "        vertical-align: middle;\n",
       "    }\n",
       "\n",
       "    .dataframe tbody tr th {\n",
       "        vertical-align: top;\n",
       "    }\n",
       "\n",
       "    .dataframe thead th {\n",
       "        text-align: right;\n",
       "    }\n",
       "</style>\n",
       "<table border=\"1\" class=\"dataframe\">\n",
       "  <thead>\n",
       "    <tr style=\"text-align: right;\">\n",
       "      <th></th>\n",
       "      <th>PassengerId</th>\n",
       "      <th>Survived</th>\n",
       "      <th>Pclass</th>\n",
       "      <th>Name</th>\n",
       "      <th>Sex</th>\n",
       "      <th>Age</th>\n",
       "      <th>SibSp</th>\n",
       "      <th>Parch</th>\n",
       "      <th>Ticket</th>\n",
       "      <th>Fare</th>\n",
       "      <th>Cabin</th>\n",
       "      <th>Embarked</th>\n",
       "    </tr>\n",
       "  </thead>\n",
       "  <tbody>\n",
       "    <tr>\n",
       "      <th>0</th>\n",
       "      <td>1</td>\n",
       "      <td>0</td>\n",
       "      <td>3</td>\n",
       "      <td>Braund, Mr. Owen Harris</td>\n",
       "      <td>male</td>\n",
       "      <td>22.0</td>\n",
       "      <td>1</td>\n",
       "      <td>0</td>\n",
       "      <td>A/5 21171</td>\n",
       "      <td>7.2500</td>\n",
       "      <td>NaN</td>\n",
       "      <td>S</td>\n",
       "    </tr>\n",
       "    <tr>\n",
       "      <th>1</th>\n",
       "      <td>2</td>\n",
       "      <td>1</td>\n",
       "      <td>1</td>\n",
       "      <td>Cumings, Mrs. John Bradley (Florence Briggs Th...</td>\n",
       "      <td>female</td>\n",
       "      <td>38.0</td>\n",
       "      <td>1</td>\n",
       "      <td>0</td>\n",
       "      <td>PC 17599</td>\n",
       "      <td>71.2833</td>\n",
       "      <td>C85</td>\n",
       "      <td>C</td>\n",
       "    </tr>\n",
       "    <tr>\n",
       "      <th>2</th>\n",
       "      <td>3</td>\n",
       "      <td>1</td>\n",
       "      <td>3</td>\n",
       "      <td>Heikkinen, Miss. Laina</td>\n",
       "      <td>female</td>\n",
       "      <td>26.0</td>\n",
       "      <td>0</td>\n",
       "      <td>0</td>\n",
       "      <td>STON/O2. 3101282</td>\n",
       "      <td>7.9250</td>\n",
       "      <td>NaN</td>\n",
       "      <td>S</td>\n",
       "    </tr>\n",
       "    <tr>\n",
       "      <th>3</th>\n",
       "      <td>4</td>\n",
       "      <td>1</td>\n",
       "      <td>1</td>\n",
       "      <td>Futrelle, Mrs. Jacques Heath (Lily May Peel)</td>\n",
       "      <td>female</td>\n",
       "      <td>35.0</td>\n",
       "      <td>1</td>\n",
       "      <td>0</td>\n",
       "      <td>113803</td>\n",
       "      <td>53.1000</td>\n",
       "      <td>C123</td>\n",
       "      <td>S</td>\n",
       "    </tr>\n",
       "    <tr>\n",
       "      <th>4</th>\n",
       "      <td>5</td>\n",
       "      <td>0</td>\n",
       "      <td>3</td>\n",
       "      <td>Allen, Mr. William Henry</td>\n",
       "      <td>male</td>\n",
       "      <td>35.0</td>\n",
       "      <td>0</td>\n",
       "      <td>0</td>\n",
       "      <td>373450</td>\n",
       "      <td>8.0500</td>\n",
       "      <td>NaN</td>\n",
       "      <td>S</td>\n",
       "    </tr>\n",
       "  </tbody>\n",
       "</table>\n",
       "</div>"
      ],
      "text/plain": [
       "   PassengerId  Survived  Pclass  \\\n",
       "0            1         0       3   \n",
       "1            2         1       1   \n",
       "2            3         1       3   \n",
       "3            4         1       1   \n",
       "4            5         0       3   \n",
       "\n",
       "                                                Name     Sex   Age  SibSp  \\\n",
       "0                            Braund, Mr. Owen Harris    male  22.0      1   \n",
       "1  Cumings, Mrs. John Bradley (Florence Briggs Th...  female  38.0      1   \n",
       "2                             Heikkinen, Miss. Laina  female  26.0      0   \n",
       "3       Futrelle, Mrs. Jacques Heath (Lily May Peel)  female  35.0      1   \n",
       "4                           Allen, Mr. William Henry    male  35.0      0   \n",
       "\n",
       "   Parch            Ticket     Fare Cabin Embarked  \n",
       "0      0         A/5 21171   7.2500   NaN        S  \n",
       "1      0          PC 17599  71.2833   C85        C  \n",
       "2      0  STON/O2. 3101282   7.9250   NaN        S  \n",
       "3      0            113803  53.1000  C123        S  \n",
       "4      0            373450   8.0500   NaN        S  "
      ]
     },
     "execution_count": 85,
     "metadata": {},
     "output_type": "execute_result"
    }
   ],
   "source": [
    "train.head()"
   ]
  },
  {
   "cell_type": "code",
   "execution_count": 86,
   "metadata": {},
   "outputs": [
    {
     "data": {
      "text/plain": [
       "(array([549.,   0.,   0.,   0.,   0.,   0.,   0.,   0.,   0., 342.]),\n",
       " array([0. , 0.1, 0.2, 0.3, 0.4, 0.5, 0.6, 0.7, 0.8, 0.9, 1. ]),\n",
       " <a list of 10 Patch objects>)"
      ]
     },
     "execution_count": 86,
     "metadata": {},
     "output_type": "execute_result"
    },
    {
     "data": {
      "image/png": "[encoded data removed]",
      "text/plain": [
       "<Figure size 432x288 with 1 Axes>"
      ]
     },
     "metadata": {},
     "output_type": "display_data"
    }
   ],
   "source": [
    "plt.hist(train['Survived'])"
   ]
  },
  {
   "cell_type": "code",
   "execution_count": 87,
   "metadata": {},
   "outputs": [
    {
     "data": {
      "text/plain": [
       "<seaborn.axisgrid.FacetGrid at 0x2aaecb95668>"
      ]
     },
     "execution_count": 87,
     "metadata": {},
     "output_type": "execute_result"
    },
    {
     "data": {
      "image/png": "[encoded data removed]",
      "text/plain": [
       "<Figure size 360x360 with 1 Axes>"
      ]
     },
     "metadata": {},
     "output_type": "display_data"
    }
   ],
   "source": [
    "sns.catplot(x=\"Pclass\", y=\"Survived\", kind=\"point\", data=train)"
   ]
  },
  {
   "cell_type": "code",
   "execution_count": 88,
   "metadata": {},
   "outputs": [
    {
     "data": {
      "text/plain": [
       "<seaborn.axisgrid.FacetGrid at 0x2aaecc00198>"
      ]
     },
     "execution_count": 88,
     "metadata": {},
     "output_type": "execute_result"
    },
    {
     "data": {
      "image/png": "[encoded data removed]",
      "text/plain": [
       "<Figure size 360x360 with 1 Axes>"
      ]
     },
     "metadata": {},
     "output_type": "display_data"
    }
   ],
   "source": [
    "sns.catplot(x=\"Sex\", y=\"Survived\", kind=\"point\", data=train)"
   ]
  },
  {
   "cell_type": "code",
   "execution_count": 89,
   "metadata": {},
   "outputs": [
    {
     "data": {
      "text/plain": [
       "<seaborn.axisgrid.FacetGrid at 0x2aaebb62c88>"
      ]
     },
     "execution_count": 89,
     "metadata": {},
     "output_type": "execute_result"
    },
    {
     "data": {
      "image/png": "[encoded data removed]",
      "text/plain": [
       "<Figure size 432.85x360 with 1 Axes>"
      ]
     },
     "metadata": {},
     "output_type": "display_data"
    }
   ],
   "source": [
    "sns.catplot(x=\"Pclass\", y=\"Survived\", hue=\"Sex\", kind=\"point\", data=train)"
   ]
  },
  {
   "cell_type": "code",
   "execution_count": 90,
   "metadata": {},
   "outputs": [
    {
     "data": {
      "text/plain": [
       "<matplotlib.axes._subplots.AxesSubplot at 0x2aaeccafa90>"
      ]
     },
     "execution_count": 90,
     "metadata": {},
     "output_type": "execute_result"
    },
    {
     "data": {
      "image/png": "[encoded data removed]",
      "text/plain": [
       "<Figure size 432x288 with 1 Axes>"
      ]
     },
     "metadata": {},
     "output_type": "display_data"
    }
   ],
   "source": [
    "train['Age'].hist()"
   ]
  },
  {
   "cell_type": "code",
   "execution_count": 91,
   "metadata": {},
   "outputs": [
    {
     "data": {
      "text/plain": [
       "<matplotlib.axes._subplots.AxesSubplot at 0x2aaecd68898>"
      ]
     },
     "execution_count": 91,
     "metadata": {},
     "output_type": "execute_result"
    },
    {
     "data": {
      "image/png": "[encoded data removed]",
      "text/plain": [
       "<Figure size 432x288 with 1 Axes>"
      ]
     },
     "metadata": {},
     "output_type": "display_data"
    }
   ],
   "source": [
    "x1 = train.loc[train.Survived == 1,'Age'].dropna()\n",
    "x2 = train.loc[train.Survived == 0,'Age'].dropna()\n",
    "sns.distplot(x1, hist=False)\n",
    "sns.distplot(x2, hist=False)"
   ]
  },
  {
   "cell_type": "code",
   "execution_count": 92,
   "metadata": {},
   "outputs": [
    {
     "data": {
      "text/plain": [
       "(array([337., 182., 147.,  50.,  16.,  39.,  18.,  29.,  18.,   2.,   8.,\n",
       "          7.,   0.,   7.,   9.,   0.,   2.,   0.,   0.,   0.,   4.,   1.,\n",
       "          4.,   0.,   2.,   6.,   0.,   0.,   0.,   0.,   0.,   0.,   0.,\n",
       "          0.,   0.,   0.,   0.,   0.,   0.,   0.,   0.,   0.,   0.,   0.,\n",
       "          0.,   0.,   0.,   0.,   0.,   3.]),\n",
       " array([  0.      ,  10.246584,  20.493168,  30.739752,  40.986336,\n",
       "         51.23292 ,  61.479504,  71.726088,  81.972672,  92.219256,\n",
       "        102.46584 , 112.712424, 122.959008, 133.205592, 143.452176,\n",
       "        153.69876 , 163.945344, 174.191928, 184.438512, 194.685096,\n",
       "        204.93168 , 215.178264, 225.424848, 235.671432, 245.918016,\n",
       "        256.1646  , 266.411184, 276.657768, 286.904352, 297.150936,\n",
       "        307.39752 , 317.644104, 327.890688, 338.137272, 348.383856,\n",
       "        358.63044 , 368.877024, 379.123608, 389.370192, 399.616776,\n",
       "        409.86336 , 420.109944, 430.356528, 440.603112, 450.849696,\n",
       "        461.09628 , 471.342864, 481.589448, 491.836032, 502.082616,\n",
       "        512.3292  ]),\n",
       " <a list of 50 Patch objects>)"
      ]
     },
     "execution_count": 92,
     "metadata": {},
     "output_type": "execute_result"
    },
    {
     "data": {
      "image/png": "[encoded data removed]",
      "text/plain": [
       "<Figure size 432x288 with 1 Axes>"
      ]
     },
     "metadata": {},
     "output_type": "display_data"
    }
   ],
   "source": [
    "fare = train['Fare'].dropna()\n",
    "plt.hist(fare, bins=50)"
   ]
  },
  {
   "cell_type": "code",
   "execution_count": 93,
   "metadata": {},
   "outputs": [],
   "source": [
    "logfare = np.log(fare+1)\n",
    "train['logfare'] = logfare"
   ]
  },
  {
   "cell_type": "code",
   "execution_count": 94,
   "metadata": {},
   "outputs": [
    {
     "data": {
      "text/plain": [
       "count    891.000000\n",
       "mean       2.962246\n",
       "std        0.969048\n",
       "min        0.000000\n",
       "25%        2.187218\n",
       "50%        2.737881\n",
       "75%        3.465736\n",
       "max        6.240917\n",
       "Name: logfare, dtype: float64"
      ]
     },
     "execution_count": 94,
     "metadata": {},
     "output_type": "execute_result"
    }
   ],
   "source": [
    "train['logfare'].describe()"
   ]
  },
  {
   "cell_type": "code",
   "execution_count": 106,
   "metadata": {},
   "outputs": [
    {
     "data": {
      "text/plain": [
       "PassengerId      0\n",
       "Survived         0\n",
       "Pclass           0\n",
       "Name             0\n",
       "Sex              0\n",
       "Age            177\n",
       "SibSp            0\n",
       "Parch            0\n",
       "Ticket           0\n",
       "Fare             0\n",
       "Cabin            0\n",
       "Embarked         0\n",
       "logfare          0\n",
       "dtype: int64"
      ]
     },
     "execution_count": 106,
     "metadata": {},
     "output_type": "execute_result"
    }
   ],
   "source": [
    "train.isnull().sum()"
   ]
  },
  {
   "cell_type": "code",
   "execution_count": 102,
   "metadata": {},
   "outputs": [],
   "source": [
    "train['Cabin'].fillna('No Cabin', inplace=True)"
   ]
  },
  {
   "cell_type": "code",
   "execution_count": 104,
   "metadata": {},
   "outputs": [
    {
     "data": {
      "text/plain": [
       "S    644\n",
       "C    168\n",
       "Q     77\n",
       "Name: Embarked, dtype: int64"
      ]
     },
     "execution_count": 104,
     "metadata": {},
     "output_type": "execute_result"
    }
   ],
   "source": [
    "train['Embarked'].value_counts()"
   ]
  },
  {
   "cell_type": "code",
   "execution_count": 105,
   "metadata": {},
   "outputs": [],
   "source": [
    "train['Embarked'].fillna('S', inplace=True)"
   ]
  },
  {
   "cell_type": "code",
   "execution_count": 107,
   "metadata": {},
   "outputs": [
    {
     "data": {
      "text/plain": [
       "<matplotlib.axes._subplots.AxesSubplot at 0x2aaece4de48>"
      ]
     },
     "execution_count": 107,
     "metadata": {},
     "output_type": "execute_result"
    },
    {
     "data": {
      "image/png": "[encoded data removed]",
      "text/plain": [
       "<Figure size 432x288 with 1 Axes>"
      ]
     },
     "metadata": {},
     "output_type": "display_data"
    }
   ],
   "source": [
    "sns.distplot(train['Age'].dropna())"
   ]
  },
  {
   "cell_type": "code",
   "execution_count": 110,
   "metadata": {},
   "outputs": [
    {
     "data": {
      "text/plain": [
       "177"
      ]
     },
     "execution_count": 110,
     "metadata": {},
     "output_type": "execute_result"
    }
   ],
   "source": [
    "train['Age'].isnull().sum()"
   ]
  },
  {
   "cell_type": "code",
   "execution_count": 114,
   "metadata": {},
   "outputs": [
    {
     "name": "stdout",
     "output_type": "stream",
     "text": [
      "Age mean: 29.69911764705882\n",
      "Age std: 14.526497332334044\n"
     ]
    }
   ],
   "source": [
    "age_mean = train['Age'].mean()\n",
    "age_std = train['Age'].std()\n",
    "print('Age mean:',age_mean)\n",
    "print('Age std:',age_std)"
   ]
  },
  {
   "cell_type": "code",
   "execution_count": 115,
   "metadata": {},
   "outputs": [],
   "source": [
    "nmissing_age = train['Age'].isnull().sum()"
   ]
  },
  {
   "cell_type": "code",
   "execution_count": 118,
   "metadata": {},
   "outputs": [],
   "source": [
    "age_random = list(map(int, np.random.normal(age_mean, age_std, nmissing_age)))"
   ]
  },
  {
   "cell_type": "code",
   "execution_count": 127,
   "metadata": {},
   "outputs": [
    {
     "name": "stderr",
     "output_type": "stream",
     "text": [
      "C:\\ProgramData\\Anaconda3\\lib\\site-packages\\ipykernel_launcher.py:1: SettingWithCopyWarning: \n",
      "A value is trying to be set on a copy of a slice from a DataFrame\n",
      "\n",
      "See the caveats in the documentation: http://pandas.pydata.org/pandas-docs/stable/indexing.html#indexing-view-versus-copy\n",
      "  \"\"\"Entry point for launching an IPython kernel.\n"
     ]
    }
   ],
   "source": [
    "train['Age'][train['Age'].isnull()] = age_random"
   ]
  },
  {
   "cell_type": "code",
   "execution_count": 130,
   "metadata": {},
   "outputs": [
    {
     "data": {
      "text/plain": [
       "PassengerId    0\n",
       "Survived       0\n",
       "Pclass         0\n",
       "Name           0\n",
       "Sex            0\n",
       "Age            0\n",
       "SibSp          0\n",
       "Parch          0\n",
       "Ticket         0\n",
       "Fare           0\n",
       "Cabin          0\n",
       "Embarked       0\n",
       "logfare        0\n",
       "dtype: int64"
      ]
     },
     "execution_count": 130,
     "metadata": {},
     "output_type": "execute_result"
    }
   ],
   "source": [
    "train.isnull().sum()"
   ]
  },
  {
   "cell_type": "code",
   "execution_count": 131,
   "metadata": {},
   "outputs": [],
   "source": [
    "train['FamilySize'] = train['SibSp']+train['Parch']+1"
   ]
  },
  {
   "cell_type": "code",
   "execution_count": 132,
   "metadata": {},
   "outputs": [
    {
     "data": {
      "text/html": [
       "<div>\n",
       "<style scoped>\n",
       "    .dataframe tbody tr th:only-of-type {\n",
       "        vertical-align: middle;\n",
       "    }\n",
       "\n",
       "    .dataframe tbody tr th {\n",
       "        vertical-align: top;\n",
       "    }\n",
       "\n",
       "    .dataframe thead th {\n",
       "        text-align: right;\n",
       "    }\n",
       "</style>\n",
       "<table border=\"1\" class=\"dataframe\">\n",
       "  <thead>\n",
       "    <tr style=\"text-align: right;\">\n",
       "      <th></th>\n",
       "      <th>PassengerId</th>\n",
       "      <th>Survived</th>\n",
       "      <th>Pclass</th>\n",
       "      <th>Name</th>\n",
       "      <th>Sex</th>\n",
       "      <th>Age</th>\n",
       "      <th>SibSp</th>\n",
       "      <th>Parch</th>\n",
       "      <th>Ticket</th>\n",
       "      <th>Fare</th>\n",
       "      <th>Cabin</th>\n",
       "      <th>Embarked</th>\n",
       "      <th>logfare</th>\n",
       "      <th>FamilySize</th>\n",
       "    </tr>\n",
       "  </thead>\n",
       "  <tbody>\n",
       "    <tr>\n",
       "      <th>0</th>\n",
       "      <td>1</td>\n",
       "      <td>0</td>\n",
       "      <td>3</td>\n",
       "      <td>Braund, Mr. Owen Harris</td>\n",
       "      <td>male</td>\n",
       "      <td>22.0</td>\n",
       "      <td>1</td>\n",
       "      <td>0</td>\n",
       "      <td>A/5 21171</td>\n",
       "      <td>7.2500</td>\n",
       "      <td>No Cabin</td>\n",
       "      <td>S</td>\n",
       "      <td>2.110213</td>\n",
       "      <td>2</td>\n",
       "    </tr>\n",
       "    <tr>\n",
       "      <th>1</th>\n",
       "      <td>2</td>\n",
       "      <td>1</td>\n",
       "      <td>1</td>\n",
       "      <td>Cumings, Mrs. John Bradley (Florence Briggs Th...</td>\n",
       "      <td>female</td>\n",
       "      <td>38.0</td>\n",
       "      <td>1</td>\n",
       "      <td>0</td>\n",
       "      <td>PC 17599</td>\n",
       "      <td>71.2833</td>\n",
       "      <td>C85</td>\n",
       "      <td>C</td>\n",
       "      <td>4.280593</td>\n",
       "      <td>2</td>\n",
       "    </tr>\n",
       "    <tr>\n",
       "      <th>2</th>\n",
       "      <td>3</td>\n",
       "      <td>1</td>\n",
       "      <td>3</td>\n",
       "      <td>Heikkinen, Miss. Laina</td>\n",
       "      <td>female</td>\n",
       "      <td>26.0</td>\n",
       "      <td>0</td>\n",
       "      <td>0</td>\n",
       "      <td>STON/O2. 3101282</td>\n",
       "      <td>7.9250</td>\n",
       "      <td>No Cabin</td>\n",
       "      <td>S</td>\n",
       "      <td>2.188856</td>\n",
       "      <td>1</td>\n",
       "    </tr>\n",
       "    <tr>\n",
       "      <th>3</th>\n",
       "      <td>4</td>\n",
       "      <td>1</td>\n",
       "      <td>1</td>\n",
       "      <td>Futrelle, Mrs. Jacques Heath (Lily May Peel)</td>\n",
       "      <td>female</td>\n",
       "      <td>35.0</td>\n",
       "      <td>1</td>\n",
       "      <td>0</td>\n",
       "      <td>113803</td>\n",
       "      <td>53.1000</td>\n",
       "      <td>C123</td>\n",
       "      <td>S</td>\n",
       "      <td>3.990834</td>\n",
       "      <td>2</td>\n",
       "    </tr>\n",
       "    <tr>\n",
       "      <th>4</th>\n",
       "      <td>5</td>\n",
       "      <td>0</td>\n",
       "      <td>3</td>\n",
       "      <td>Allen, Mr. William Henry</td>\n",
       "      <td>male</td>\n",
       "      <td>35.0</td>\n",
       "      <td>0</td>\n",
       "      <td>0</td>\n",
       "      <td>373450</td>\n",
       "      <td>8.0500</td>\n",
       "      <td>No Cabin</td>\n",
       "      <td>S</td>\n",
       "      <td>2.202765</td>\n",
       "      <td>1</td>\n",
       "    </tr>\n",
       "  </tbody>\n",
       "</table>\n",
       "</div>"
      ],
      "text/plain": [
       "   PassengerId  Survived  Pclass  \\\n",
       "0            1         0       3   \n",
       "1            2         1       1   \n",
       "2            3         1       3   \n",
       "3            4         1       1   \n",
       "4            5         0       3   \n",
       "\n",
       "                                                Name     Sex   Age  SibSp  \\\n",
       "0                            Braund, Mr. Owen Harris    male  22.0      1   \n",
       "1  Cumings, Mrs. John Bradley (Florence Briggs Th...  female  38.0      1   \n",
       "2                             Heikkinen, Miss. Laina  female  26.0      0   \n",
       "3       Futrelle, Mrs. Jacques Heath (Lily May Peel)  female  35.0      1   \n",
       "4                           Allen, Mr. William Henry    male  35.0      0   \n",
       "\n",
       "   Parch            Ticket     Fare     Cabin Embarked   logfare  FamilySize  \n",
       "0      0         A/5 21171   7.2500  No Cabin        S  2.110213           2  \n",
       "1      0          PC 17599  71.2833       C85        C  4.280593           2  \n",
       "2      0  STON/O2. 3101282   7.9250  No Cabin        S  2.188856           1  \n",
       "3      0            113803  53.1000      C123        S  3.990834           2  \n",
       "4      0            373450   8.0500  No Cabin        S  2.202765           1  "
      ]
     },
     "execution_count": 132,
     "metadata": {},
     "output_type": "execute_result"
    }
   ],
   "source": [
    "train.head()"
   ]
  },
  {
   "cell_type": "code",
   "execution_count": 133,
   "metadata": {},
   "outputs": [
    {
     "data": {
      "text/html": [
       "<div>\n",
       "<style scoped>\n",
       "    .dataframe tbody tr th:only-of-type {\n",
       "        vertical-align: middle;\n",
       "    }\n",
       "\n",
       "    .dataframe tbody tr th {\n",
       "        vertical-align: top;\n",
       "    }\n",
       "\n",
       "    .dataframe thead th {\n",
       "        text-align: right;\n",
       "    }\n",
       "</style>\n",
       "<table border=\"1\" class=\"dataframe\">\n",
       "  <thead>\n",
       "    <tr style=\"text-align: right;\">\n",
       "      <th></th>\n",
       "      <th>PassengerId</th>\n",
       "      <th>Survived</th>\n",
       "      <th>Pclass</th>\n",
       "      <th>Name</th>\n",
       "      <th>Sex</th>\n",
       "      <th>Age</th>\n",
       "      <th>SibSp</th>\n",
       "      <th>Parch</th>\n",
       "      <th>Ticket</th>\n",
       "      <th>Fare</th>\n",
       "      <th>Cabin</th>\n",
       "      <th>Embarked</th>\n",
       "      <th>logfare</th>\n",
       "      <th>FamilySize</th>\n",
       "      <th>IsAlone</th>\n",
       "    </tr>\n",
       "  </thead>\n",
       "  <tbody>\n",
       "    <tr>\n",
       "      <th>0</th>\n",
       "      <td>1</td>\n",
       "      <td>0</td>\n",
       "      <td>3</td>\n",
       "      <td>Braund, Mr. Owen Harris</td>\n",
       "      <td>male</td>\n",
       "      <td>22.0</td>\n",
       "      <td>1</td>\n",
       "      <td>0</td>\n",
       "      <td>A/5 21171</td>\n",
       "      <td>7.2500</td>\n",
       "      <td>No Cabin</td>\n",
       "      <td>S</td>\n",
       "      <td>2.110213</td>\n",
       "      <td>2</td>\n",
       "      <td>0</td>\n",
       "    </tr>\n",
       "    <tr>\n",
       "      <th>1</th>\n",
       "      <td>2</td>\n",
       "      <td>1</td>\n",
       "      <td>1</td>\n",
       "      <td>Cumings, Mrs. John Bradley (Florence Briggs Th...</td>\n",
       "      <td>female</td>\n",
       "      <td>38.0</td>\n",
       "      <td>1</td>\n",
       "      <td>0</td>\n",
       "      <td>PC 17599</td>\n",
       "      <td>71.2833</td>\n",
       "      <td>C85</td>\n",
       "      <td>C</td>\n",
       "      <td>4.280593</td>\n",
       "      <td>2</td>\n",
       "      <td>0</td>\n",
       "    </tr>\n",
       "    <tr>\n",
       "      <th>2</th>\n",
       "      <td>3</td>\n",
       "      <td>1</td>\n",
       "      <td>3</td>\n",
       "      <td>Heikkinen, Miss. Laina</td>\n",
       "      <td>female</td>\n",
       "      <td>26.0</td>\n",
       "      <td>0</td>\n",
       "      <td>0</td>\n",
       "      <td>STON/O2. 3101282</td>\n",
       "      <td>7.9250</td>\n",
       "      <td>No Cabin</td>\n",
       "      <td>S</td>\n",
       "      <td>2.188856</td>\n",
       "      <td>1</td>\n",
       "      <td>1</td>\n",
       "    </tr>\n",
       "    <tr>\n",
       "      <th>3</th>\n",
       "      <td>4</td>\n",
       "      <td>1</td>\n",
       "      <td>1</td>\n",
       "      <td>Futrelle, Mrs. Jacques Heath (Lily May Peel)</td>\n",
       "      <td>female</td>\n",
       "      <td>35.0</td>\n",
       "      <td>1</td>\n",
       "      <td>0</td>\n",
       "      <td>113803</td>\n",
       "      <td>53.1000</td>\n",
       "      <td>C123</td>\n",
       "      <td>S</td>\n",
       "      <td>3.990834</td>\n",
       "      <td>2</td>\n",
       "      <td>0</td>\n",
       "    </tr>\n",
       "    <tr>\n",
       "      <th>4</th>\n",
       "      <td>5</td>\n",
       "      <td>0</td>\n",
       "      <td>3</td>\n",
       "      <td>Allen, Mr. William Henry</td>\n",
       "      <td>male</td>\n",
       "      <td>35.0</td>\n",
       "      <td>0</td>\n",
       "      <td>0</td>\n",
       "      <td>373450</td>\n",
       "      <td>8.0500</td>\n",
       "      <td>No Cabin</td>\n",
       "      <td>S</td>\n",
       "      <td>2.202765</td>\n",
       "      <td>1</td>\n",
       "      <td>1</td>\n",
       "    </tr>\n",
       "  </tbody>\n",
       "</table>\n",
       "</div>"
      ],
      "text/plain": [
       "   PassengerId  Survived  Pclass  \\\n",
       "0            1         0       3   \n",
       "1            2         1       1   \n",
       "2            3         1       3   \n",
       "3            4         1       1   \n",
       "4            5         0       3   \n",
       "\n",
       "                                                Name     Sex   Age  SibSp  \\\n",
       "0                            Braund, Mr. Owen Harris    male  22.0      1   \n",
       "1  Cumings, Mrs. John Bradley (Florence Briggs Th...  female  38.0      1   \n",
       "2                             Heikkinen, Miss. Laina  female  26.0      0   \n",
       "3       Futrelle, Mrs. Jacques Heath (Lily May Peel)  female  35.0      1   \n",
       "4                           Allen, Mr. William Henry    male  35.0      0   \n",
       "\n",
       "   Parch            Ticket     Fare     Cabin Embarked   logfare  FamilySize  \\\n",
       "0      0         A/5 21171   7.2500  No Cabin        S  2.110213           2   \n",
       "1      0          PC 17599  71.2833       C85        C  4.280593           2   \n",
       "2      0  STON/O2. 3101282   7.9250  No Cabin        S  2.188856           1   \n",
       "3      0            113803  53.1000      C123        S  3.990834           2   \n",
       "4      0            373450   8.0500  No Cabin        S  2.202765           1   \n",
       "\n",
       "   IsAlone  \n",
       "0        0  \n",
       "1        0  \n",
       "2        1  \n",
       "3        0  \n",
       "4        1  "
      ]
     },
     "execution_count": 133,
     "metadata": {},
     "output_type": "execute_result"
    }
   ],
   "source": [
    "train['IsAlone'] = 0\n",
    "train.loc[train['FamilySize']==1,'IsAlone'] = 1\n",
    "train.head()"
   ]
  },
  {
   "cell_type": "code",
   "execution_count": 146,
   "metadata": {},
   "outputs": [],
   "source": [
    "train.loc[train['Cabin']=='No Cabin','Cabin'] = np.nan"
   ]
  },
  {
   "cell_type": "code",
   "execution_count": 150,
   "metadata": {},
   "outputs": [
    {
     "data": {
      "text/plain": [
       "dtype('O')"
      ]
     },
     "execution_count": 150,
     "metadata": {},
     "output_type": "execute_result"
    }
   ],
   "source": [
    "train['Cabin'] = train['Cabin'].astype(str)\n",
    "train['Cabin'].dtype"
   ]
  },
  {
   "cell_type": "code",
   "execution_count": 151,
   "metadata": {},
   "outputs": [],
   "source": [
    "train['CabinType'] = train['Cabin'].apply(lambda x: x[0])"
   ]
  },
  {
   "cell_type": "code",
   "execution_count": 152,
   "metadata": {},
   "outputs": [
    {
     "data": {
      "text/html": [
       "<div>\n",
       "<style scoped>\n",
       "    .dataframe tbody tr th:only-of-type {\n",
       "        vertical-align: middle;\n",
       "    }\n",
       "\n",
       "    .dataframe tbody tr th {\n",
       "        vertical-align: top;\n",
       "    }\n",
       "\n",
       "    .dataframe thead th {\n",
       "        text-align: right;\n",
       "    }\n",
       "</style>\n",
       "<table border=\"1\" class=\"dataframe\">\n",
       "  <thead>\n",
       "    <tr style=\"text-align: right;\">\n",
       "      <th></th>\n",
       "      <th>PassengerId</th>\n",
       "      <th>Survived</th>\n",
       "      <th>Pclass</th>\n",
       "      <th>Name</th>\n",
       "      <th>Sex</th>\n",
       "      <th>Age</th>\n",
       "      <th>SibSp</th>\n",
       "      <th>Parch</th>\n",
       "      <th>Ticket</th>\n",
       "      <th>Fare</th>\n",
       "      <th>Cabin</th>\n",
       "      <th>Embarked</th>\n",
       "      <th>logfare</th>\n",
       "      <th>FamilySize</th>\n",
       "      <th>IsAlone</th>\n",
       "      <th>CabinType</th>\n",
       "    </tr>\n",
       "  </thead>\n",
       "  <tbody>\n",
       "    <tr>\n",
       "      <th>0</th>\n",
       "      <td>1</td>\n",
       "      <td>0</td>\n",
       "      <td>3</td>\n",
       "      <td>Braund, Mr. Owen Harris</td>\n",
       "      <td>male</td>\n",
       "      <td>22.0</td>\n",
       "      <td>1</td>\n",
       "      <td>0</td>\n",
       "      <td>A/5 21171</td>\n",
       "      <td>7.2500</td>\n",
       "      <td>nan</td>\n",
       "      <td>S</td>\n",
       "      <td>2.110213</td>\n",
       "      <td>2</td>\n",
       "      <td>0</td>\n",
       "      <td>n</td>\n",
       "    </tr>\n",
       "    <tr>\n",
       "      <th>1</th>\n",
       "      <td>2</td>\n",
       "      <td>1</td>\n",
       "      <td>1</td>\n",
       "      <td>Cumings, Mrs. John Bradley (Florence Briggs Th...</td>\n",
       "      <td>female</td>\n",
       "      <td>38.0</td>\n",
       "      <td>1</td>\n",
       "      <td>0</td>\n",
       "      <td>PC 17599</td>\n",
       "      <td>71.2833</td>\n",
       "      <td>C85</td>\n",
       "      <td>C</td>\n",
       "      <td>4.280593</td>\n",
       "      <td>2</td>\n",
       "      <td>0</td>\n",
       "      <td>C</td>\n",
       "    </tr>\n",
       "    <tr>\n",
       "      <th>2</th>\n",
       "      <td>3</td>\n",
       "      <td>1</td>\n",
       "      <td>3</td>\n",
       "      <td>Heikkinen, Miss. Laina</td>\n",
       "      <td>female</td>\n",
       "      <td>26.0</td>\n",
       "      <td>0</td>\n",
       "      <td>0</td>\n",
       "      <td>STON/O2. 3101282</td>\n",
       "      <td>7.9250</td>\n",
       "      <td>nan</td>\n",
       "      <td>S</td>\n",
       "      <td>2.188856</td>\n",
       "      <td>1</td>\n",
       "      <td>1</td>\n",
       "      <td>n</td>\n",
       "    </tr>\n",
       "    <tr>\n",
       "      <th>3</th>\n",
       "      <td>4</td>\n",
       "      <td>1</td>\n",
       "      <td>1</td>\n",
       "      <td>Futrelle, Mrs. Jacques Heath (Lily May Peel)</td>\n",
       "      <td>female</td>\n",
       "      <td>35.0</td>\n",
       "      <td>1</td>\n",
       "      <td>0</td>\n",
       "      <td>113803</td>\n",
       "      <td>53.1000</td>\n",
       "      <td>C123</td>\n",
       "      <td>S</td>\n",
       "      <td>3.990834</td>\n",
       "      <td>2</td>\n",
       "      <td>0</td>\n",
       "      <td>C</td>\n",
       "    </tr>\n",
       "    <tr>\n",
       "      <th>4</th>\n",
       "      <td>5</td>\n",
       "      <td>0</td>\n",
       "      <td>3</td>\n",
       "      <td>Allen, Mr. William Henry</td>\n",
       "      <td>male</td>\n",
       "      <td>35.0</td>\n",
       "      <td>0</td>\n",
       "      <td>0</td>\n",
       "      <td>373450</td>\n",
       "      <td>8.0500</td>\n",
       "      <td>nan</td>\n",
       "      <td>S</td>\n",
       "      <td>2.202765</td>\n",
       "      <td>1</td>\n",
       "      <td>1</td>\n",
       "      <td>n</td>\n",
       "    </tr>\n",
       "  </tbody>\n",
       "</table>\n",
       "</div>"
      ],
      "text/plain": [
       "   PassengerId  Survived  Pclass  \\\n",
       "0            1         0       3   \n",
       "1            2         1       1   \n",
       "2            3         1       3   \n",
       "3            4         1       1   \n",
       "4            5         0       3   \n",
       "\n",
       "                                                Name     Sex   Age  SibSp  \\\n",
       "0                            Braund, Mr. Owen Harris    male  22.0      1   \n",
       "1  Cumings, Mrs. John Bradley (Florence Briggs Th...  female  38.0      1   \n",
       "2                             Heikkinen, Miss. Laina  female  26.0      0   \n",
       "3       Futrelle, Mrs. Jacques Heath (Lily May Peel)  female  35.0      1   \n",
       "4                           Allen, Mr. William Henry    male  35.0      0   \n",
       "\n",
       "   Parch            Ticket     Fare Cabin Embarked   logfare  FamilySize  \\\n",
       "0      0         A/5 21171   7.2500   nan        S  2.110213           2   \n",
       "1      0          PC 17599  71.2833   C85        C  4.280593           2   \n",
       "2      0  STON/O2. 3101282   7.9250   nan        S  2.188856           1   \n",
       "3      0            113803  53.1000  C123        S  3.990834           2   \n",
       "4      0            373450   8.0500   nan        S  2.202765           1   \n",
       "\n",
       "   IsAlone CabinType  \n",
       "0        0         n  \n",
       "1        0         C  \n",
       "2        1         n  \n",
       "3        0         C  \n",
       "4        1         n  "
      ]
     },
     "execution_count": 152,
     "metadata": {},
     "output_type": "execute_result"
    }
   ],
   "source": [
    "train.head()"
   ]
  },
  {
   "cell_type": "code",
   "execution_count": 157,
   "metadata": {},
   "outputs": [
    {
     "data": {
      "text/plain": [
       "No Cabin    687\n",
       "C            59\n",
       "B            47\n",
       "D            33\n",
       "E            32\n",
       "A            15\n",
       "F            13\n",
       "GT            5\n",
       "Name: CabinType, dtype: int64"
      ]
     },
     "execution_count": 157,
     "metadata": {},
     "output_type": "execute_result"
    }
   ],
   "source": [
    "train['CabinType'].value_counts()"
   ]
  },
  {
   "cell_type": "code",
   "execution_count": 154,
   "metadata": {},
   "outputs": [],
   "source": [
    "train.loc[train['CabinType']=='n','CabinType'] = 'No Cabin'"
   ]
  },
  {
   "cell_type": "code",
   "execution_count": 156,
   "metadata": {},
   "outputs": [],
   "source": [
    "train.loc[train['CabinType']=='G','CabinType'] = 'GT'\n",
    "train.loc[train['CabinType']=='T','CabinType'] = 'GT'"
   ]
  },
  {
   "cell_type": "code",
   "execution_count": 158,
   "metadata": {},
   "outputs": [
    {
     "data": {
      "text/plain": [
       "<seaborn.axisgrid.FacetGrid at 0x2aae7bc4eb8>"
      ]
     },
     "execution_count": 158,
     "metadata": {},
     "output_type": "execute_result"
    },
    {
     "data": {
      "image/png": "[encoded data removed]",
      "text/plain": [
       "<Figure size 360x360 with 1 Axes>"
      ]
     },
     "metadata": {},
     "output_type": "display_data"
    }
   ],
   "source": [
    "sns.catplot(x=\"CabinType\",y=\"Survived\",kind=\"point\",data=train)"
   ]
  },
  {
   "cell_type": "code",
   "execution_count": 159,
   "metadata": {},
   "outputs": [
    {
     "data": {
      "text/html": [
       "<div>\n",
       "<style scoped>\n",
       "    .dataframe tbody tr th:only-of-type {\n",
       "        vertical-align: middle;\n",
       "    }\n",
       "\n",
       "    .dataframe tbody tr th {\n",
       "        vertical-align: top;\n",
       "    }\n",
       "\n",
       "    .dataframe thead th {\n",
       "        text-align: right;\n",
       "    }\n",
       "</style>\n",
       "<table border=\"1\" class=\"dataframe\">\n",
       "  <thead>\n",
       "    <tr style=\"text-align: right;\">\n",
       "      <th></th>\n",
       "      <th>PassengerId</th>\n",
       "      <th>Survived</th>\n",
       "      <th>Pclass</th>\n",
       "      <th>Name</th>\n",
       "      <th>Sex</th>\n",
       "      <th>Age</th>\n",
       "      <th>SibSp</th>\n",
       "      <th>Parch</th>\n",
       "      <th>Ticket</th>\n",
       "      <th>Fare</th>\n",
       "      <th>Cabin</th>\n",
       "      <th>Embarked</th>\n",
       "      <th>logfare</th>\n",
       "      <th>FamilySize</th>\n",
       "      <th>IsAlone</th>\n",
       "      <th>CabinType</th>\n",
       "    </tr>\n",
       "  </thead>\n",
       "  <tbody>\n",
       "    <tr>\n",
       "      <th>0</th>\n",
       "      <td>1</td>\n",
       "      <td>0</td>\n",
       "      <td>3</td>\n",
       "      <td>Braund, Mr. Owen Harris</td>\n",
       "      <td>male</td>\n",
       "      <td>22.0</td>\n",
       "      <td>1</td>\n",
       "      <td>0</td>\n",
       "      <td>A/5 21171</td>\n",
       "      <td>7.2500</td>\n",
       "      <td>nan</td>\n",
       "      <td>S</td>\n",
       "      <td>2.110213</td>\n",
       "      <td>2</td>\n",
       "      <td>0</td>\n",
       "      <td>No Cabin</td>\n",
       "    </tr>\n",
       "    <tr>\n",
       "      <th>1</th>\n",
       "      <td>2</td>\n",
       "      <td>1</td>\n",
       "      <td>1</td>\n",
       "      <td>Cumings, Mrs. John Bradley (Florence Briggs Th...</td>\n",
       "      <td>female</td>\n",
       "      <td>38.0</td>\n",
       "      <td>1</td>\n",
       "      <td>0</td>\n",
       "      <td>PC 17599</td>\n",
       "      <td>71.2833</td>\n",
       "      <td>C85</td>\n",
       "      <td>C</td>\n",
       "      <td>4.280593</td>\n",
       "      <td>2</td>\n",
       "      <td>0</td>\n",
       "      <td>C</td>\n",
       "    </tr>\n",
       "    <tr>\n",
       "      <th>2</th>\n",
       "      <td>3</td>\n",
       "      <td>1</td>\n",
       "      <td>3</td>\n",
       "      <td>Heikkinen, Miss. Laina</td>\n",
       "      <td>female</td>\n",
       "      <td>26.0</td>\n",
       "      <td>0</td>\n",
       "      <td>0</td>\n",
       "      <td>STON/O2. 3101282</td>\n",
       "      <td>7.9250</td>\n",
       "      <td>nan</td>\n",
       "      <td>S</td>\n",
       "      <td>2.188856</td>\n",
       "      <td>1</td>\n",
       "      <td>1</td>\n",
       "      <td>No Cabin</td>\n",
       "    </tr>\n",
       "    <tr>\n",
       "      <th>3</th>\n",
       "      <td>4</td>\n",
       "      <td>1</td>\n",
       "      <td>1</td>\n",
       "      <td>Futrelle, Mrs. Jacques Heath (Lily May Peel)</td>\n",
       "      <td>female</td>\n",
       "      <td>35.0</td>\n",
       "      <td>1</td>\n",
       "      <td>0</td>\n",
       "      <td>113803</td>\n",
       "      <td>53.1000</td>\n",
       "      <td>C123</td>\n",
       "      <td>S</td>\n",
       "      <td>3.990834</td>\n",
       "      <td>2</td>\n",
       "      <td>0</td>\n",
       "      <td>C</td>\n",
       "    </tr>\n",
       "    <tr>\n",
       "      <th>4</th>\n",
       "      <td>5</td>\n",
       "      <td>0</td>\n",
       "      <td>3</td>\n",
       "      <td>Allen, Mr. William Henry</td>\n",
       "      <td>male</td>\n",
       "      <td>35.0</td>\n",
       "      <td>0</td>\n",
       "      <td>0</td>\n",
       "      <td>373450</td>\n",
       "      <td>8.0500</td>\n",
       "      <td>nan</td>\n",
       "      <td>S</td>\n",
       "      <td>2.202765</td>\n",
       "      <td>1</td>\n",
       "      <td>1</td>\n",
       "      <td>No Cabin</td>\n",
       "    </tr>\n",
       "  </tbody>\n",
       "</table>\n",
       "</div>"
      ],
      "text/plain": [
       "   PassengerId  Survived  Pclass  \\\n",
       "0            1         0       3   \n",
       "1            2         1       1   \n",
       "2            3         1       3   \n",
       "3            4         1       1   \n",
       "4            5         0       3   \n",
       "\n",
       "                                                Name     Sex   Age  SibSp  \\\n",
       "0                            Braund, Mr. Owen Harris    male  22.0      1   \n",
       "1  Cumings, Mrs. John Bradley (Florence Briggs Th...  female  38.0      1   \n",
       "2                             Heikkinen, Miss. Laina  female  26.0      0   \n",
       "3       Futrelle, Mrs. Jacques Heath (Lily May Peel)  female  35.0      1   \n",
       "4                           Allen, Mr. William Henry    male  35.0      0   \n",
       "\n",
       "   Parch            Ticket     Fare Cabin Embarked   logfare  FamilySize  \\\n",
       "0      0         A/5 21171   7.2500   nan        S  2.110213           2   \n",
       "1      0          PC 17599  71.2833   C85        C  4.280593           2   \n",
       "2      0  STON/O2. 3101282   7.9250   nan        S  2.188856           1   \n",
       "3      0            113803  53.1000  C123        S  3.990834           2   \n",
       "4      0            373450   8.0500   nan        S  2.202765           1   \n",
       "\n",
       "   IsAlone CabinType  \n",
       "0        0  No Cabin  \n",
       "1        0         C  \n",
       "2        1  No Cabin  \n",
       "3        0         C  \n",
       "4        1  No Cabin  "
      ]
     },
     "execution_count": 159,
     "metadata": {},
     "output_type": "execute_result"
    }
   ],
   "source": [
    "train.head()"
   ]
  },
  {
   "cell_type": "code",
   "execution_count": 171,
   "metadata": {},
   "outputs": [],
   "source": [
    "train['Sex'] = train['Sex'].map({'male':1,'female':0})\n",
    "#train['Sex'] = train['Sex'].astype(str)"
   ]
  },
  {
   "cell_type": "code",
   "execution_count": 173,
   "metadata": {},
   "outputs": [
    {
     "data": {
      "text/html": [
       "<div>\n",
       "<style scoped>\n",
       "    .dataframe tbody tr th:only-of-type {\n",
       "        vertical-align: middle;\n",
       "    }\n",
       "\n",
       "    .dataframe tbody tr th {\n",
       "        vertical-align: top;\n",
       "    }\n",
       "\n",
       "    .dataframe thead th {\n",
       "        text-align: right;\n",
       "    }\n",
       "</style>\n",
       "<table border=\"1\" class=\"dataframe\">\n",
       "  <thead>\n",
       "    <tr style=\"text-align: right;\">\n",
       "      <th></th>\n",
       "      <th>PassengerId</th>\n",
       "      <th>Survived</th>\n",
       "      <th>Pclass</th>\n",
       "      <th>Name</th>\n",
       "      <th>Sex</th>\n",
       "      <th>Age</th>\n",
       "      <th>SibSp</th>\n",
       "      <th>Parch</th>\n",
       "      <th>Ticket</th>\n",
       "      <th>Fare</th>\n",
       "      <th>Cabin</th>\n",
       "      <th>Embarked</th>\n",
       "      <th>logfare</th>\n",
       "      <th>FamilySize</th>\n",
       "      <th>IsAlone</th>\n",
       "      <th>CabinType</th>\n",
       "    </tr>\n",
       "  </thead>\n",
       "  <tbody>\n",
       "    <tr>\n",
       "      <th>0</th>\n",
       "      <td>1</td>\n",
       "      <td>0</td>\n",
       "      <td>3</td>\n",
       "      <td>Braund, Mr. Owen Harris</td>\n",
       "      <td>1</td>\n",
       "      <td>22.0</td>\n",
       "      <td>1</td>\n",
       "      <td>0</td>\n",
       "      <td>A/5 21171</td>\n",
       "      <td>7.2500</td>\n",
       "      <td>nan</td>\n",
       "      <td>S</td>\n",
       "      <td>2.110213</td>\n",
       "      <td>2</td>\n",
       "      <td>0</td>\n",
       "      <td>No Cabin</td>\n",
       "    </tr>\n",
       "    <tr>\n",
       "      <th>1</th>\n",
       "      <td>2</td>\n",
       "      <td>1</td>\n",
       "      <td>1</td>\n",
       "      <td>Cumings, Mrs. John Bradley (Florence Briggs Th...</td>\n",
       "      <td>0</td>\n",
       "      <td>38.0</td>\n",
       "      <td>1</td>\n",
       "      <td>0</td>\n",
       "      <td>PC 17599</td>\n",
       "      <td>71.2833</td>\n",
       "      <td>C85</td>\n",
       "      <td>C</td>\n",
       "      <td>4.280593</td>\n",
       "      <td>2</td>\n",
       "      <td>0</td>\n",
       "      <td>C</td>\n",
       "    </tr>\n",
       "    <tr>\n",
       "      <th>2</th>\n",
       "      <td>3</td>\n",
       "      <td>1</td>\n",
       "      <td>3</td>\n",
       "      <td>Heikkinen, Miss. Laina</td>\n",
       "      <td>0</td>\n",
       "      <td>26.0</td>\n",
       "      <td>0</td>\n",
       "      <td>0</td>\n",
       "      <td>STON/O2. 3101282</td>\n",
       "      <td>7.9250</td>\n",
       "      <td>nan</td>\n",
       "      <td>S</td>\n",
       "      <td>2.188856</td>\n",
       "      <td>1</td>\n",
       "      <td>1</td>\n",
       "      <td>No Cabin</td>\n",
       "    </tr>\n",
       "    <tr>\n",
       "      <th>3</th>\n",
       "      <td>4</td>\n",
       "      <td>1</td>\n",
       "      <td>1</td>\n",
       "      <td>Futrelle, Mrs. Jacques Heath (Lily May Peel)</td>\n",
       "      <td>0</td>\n",
       "      <td>35.0</td>\n",
       "      <td>1</td>\n",
       "      <td>0</td>\n",
       "      <td>113803</td>\n",
       "      <td>53.1000</td>\n",
       "      <td>C123</td>\n",
       "      <td>S</td>\n",
       "      <td>3.990834</td>\n",
       "      <td>2</td>\n",
       "      <td>0</td>\n",
       "      <td>C</td>\n",
       "    </tr>\n",
       "    <tr>\n",
       "      <th>4</th>\n",
       "      <td>5</td>\n",
       "      <td>0</td>\n",
       "      <td>3</td>\n",
       "      <td>Allen, Mr. William Henry</td>\n",
       "      <td>1</td>\n",
       "      <td>35.0</td>\n",
       "      <td>0</td>\n",
       "      <td>0</td>\n",
       "      <td>373450</td>\n",
       "      <td>8.0500</td>\n",
       "      <td>nan</td>\n",
       "      <td>S</td>\n",
       "      <td>2.202765</td>\n",
       "      <td>1</td>\n",
       "      <td>1</td>\n",
       "      <td>No Cabin</td>\n",
       "    </tr>\n",
       "  </tbody>\n",
       "</table>\n",
       "</div>"
      ],
      "text/plain": [
       "   PassengerId  Survived  Pclass  \\\n",
       "0            1         0       3   \n",
       "1            2         1       1   \n",
       "2            3         1       3   \n",
       "3            4         1       1   \n",
       "4            5         0       3   \n",
       "\n",
       "                                                Name  Sex   Age  SibSp  Parch  \\\n",
       "0                            Braund, Mr. Owen Harris    1  22.0      1      0   \n",
       "1  Cumings, Mrs. John Bradley (Florence Briggs Th...    0  38.0      1      0   \n",
       "2                             Heikkinen, Miss. Laina    0  26.0      0      0   \n",
       "3       Futrelle, Mrs. Jacques Heath (Lily May Peel)    0  35.0      1      0   \n",
       "4                           Allen, Mr. William Henry    1  35.0      0      0   \n",
       "\n",
       "             Ticket     Fare Cabin Embarked   logfare  FamilySize  IsAlone  \\\n",
       "0         A/5 21171   7.2500   nan        S  2.110213           2        0   \n",
       "1          PC 17599  71.2833   C85        C  4.280593           2        0   \n",
       "2  STON/O2. 3101282   7.9250   nan        S  2.188856           1        1   \n",
       "3            113803  53.1000  C123        S  3.990834           2        0   \n",
       "4            373450   8.0500   nan        S  2.202765           1        1   \n",
       "\n",
       "  CabinType  \n",
       "0  No Cabin  \n",
       "1         C  \n",
       "2  No Cabin  \n",
       "3         C  \n",
       "4  No Cabin  "
      ]
     },
     "execution_count": 173,
     "metadata": {},
     "output_type": "execute_result"
    }
   ],
   "source": [
    "train.head()"
   ]
  },
  {
   "cell_type": "code",
   "execution_count": 176,
   "metadata": {},
   "outputs": [],
   "source": [
    "X = train[['Pclass','Sex','Age','SibSp','Parch','Embarked','logfare','FamilySize','IsAlone','CabinType']]\n",
    "y = train['Survived']"
   ]
  },
  {
   "cell_type": "code",
   "execution_count": 200,
   "metadata": {},
   "outputs": [
    {
     "name": "stderr",
     "output_type": "stream",
     "text": [
      "C:\\ProgramData\\Anaconda3\\lib\\site-packages\\sklearn\\preprocessing\\data.py:617: DataConversionWarning: Data with input dtype uint8, int64, float64 were all converted to float64 by StandardScaler.\n",
      "  return self.partial_fit(X, y)\n",
      "C:\\ProgramData\\Anaconda3\\lib\\site-packages\\sklearn\\base.py:462: DataConversionWarning: Data with input dtype uint8, int64, float64 were all converted to float64 by StandardScaler.\n",
      "  return self.fit(X, **fit_params).transform(X)\n"
     ]
    }
   ],
   "source": [
    "from sklearn.preprocessing import StandardScaler\n",
    "scaler = StandardScaler()\n",
    "X = scaler.fit_transform(X)"
   ]
  },
  {
   "cell_type": "code",
   "execution_count": 205,
   "metadata": {},
   "outputs": [
    {
     "data": {
      "text/plain": [
       "array([ 0.82737724, -1.56610693,  0.82737724, -1.56610693,  0.82737724,\n",
       "        0.82737724, -1.56610693,  0.82737724,  0.82737724, -0.36936484,\n",
       "        0.82737724, -1.56610693,  0.82737724,  0.82737724,  0.82737724,\n",
       "       -0.36936484,  0.82737724, -0.36936484,  0.82737724,  0.82737724,\n",
       "       -0.36936484, -0.36936484,  0.82737724, -1.56610693,  0.82737724,\n",
       "        0.82737724,  0.82737724, -1.56610693,  0.82737724,  0.82737724,\n",
       "       -1.56610693, -1.56610693,  0.82737724, -0.36936484, -1.56610693,\n",
       "       -1.56610693,  0.82737724,  0.82737724,  0.82737724,  0.82737724,\n",
       "        0.82737724, -0.36936484,  0.82737724, -0.36936484,  0.82737724,\n",
       "        0.82737724,  0.82737724,  0.82737724,  0.82737724,  0.82737724,\n",
       "        0.82737724,  0.82737724, -1.56610693, -0.36936484, -1.56610693,\n",
       "       -1.56610693, -0.36936484,  0.82737724, -0.36936484,  0.82737724,\n",
       "        0.82737724, -1.56610693, -1.56610693,  0.82737724, -1.56610693,\n",
       "        0.82737724, -0.36936484,  0.82737724,  0.82737724,  0.82737724,\n",
       "       -0.36936484,  0.82737724, -0.36936484,  0.82737724,  0.82737724,\n",
       "        0.82737724,  0.82737724,  0.82737724, -0.36936484,  0.82737724,\n",
       "        0.82737724,  0.82737724,  0.82737724, -1.56610693, -0.36936484,\n",
       "        0.82737724,  0.82737724,  0.82737724, -1.56610693,  0.82737724,\n",
       "        0.82737724,  0.82737724, -1.56610693,  0.82737724,  0.82737724,\n",
       "        0.82737724, -1.56610693, -1.56610693, -0.36936484, -0.36936484,\n",
       "        0.82737724,  0.82737724, -1.56610693,  0.82737724,  0.82737724,\n",
       "        0.82737724,  0.82737724,  0.82737724,  0.82737724,  0.82737724,\n",
       "       -1.56610693,  0.82737724,  0.82737724,  0.82737724,  0.82737724,\n",
       "        0.82737724,  0.82737724, -0.36936484, -1.56610693,  0.82737724,\n",
       "       -0.36936484,  0.82737724, -0.36936484, -0.36936484, -1.56610693,\n",
       "        0.82737724,  0.82737724,  0.82737724,  0.82737724,  0.82737724,\n",
       "        0.82737724,  0.82737724,  0.82737724, -0.36936484, -0.36936484,\n",
       "       -0.36936484, -1.56610693, -1.56610693,  0.82737724, -1.56610693,\n",
       "        0.82737724,  0.82737724,  0.82737724,  0.82737724, -0.36936484,\n",
       "       -0.36936484,  0.82737724,  0.82737724, -0.36936484, -0.36936484,\n",
       "       -0.36936484, -1.56610693,  0.82737724,  0.82737724,  0.82737724,\n",
       "       -1.56610693,  0.82737724,  0.82737724,  0.82737724,  0.82737724,\n",
       "        0.82737724, -0.36936484,  0.82737724,  0.82737724,  0.82737724,\n",
       "        0.82737724, -1.56610693,  0.82737724, -1.56610693,  0.82737724,\n",
       "       -1.56610693,  0.82737724,  0.82737724,  0.82737724, -1.56610693,\n",
       "        0.82737724,  0.82737724, -1.56610693, -0.36936484,  0.82737724,\n",
       "        0.82737724, -0.36936484,  0.82737724, -0.36936484,  0.82737724,\n",
       "       -1.56610693,  0.82737724, -1.56610693,  0.82737724,  0.82737724,\n",
       "       -0.36936484, -0.36936484,  0.82737724, -0.36936484, -1.56610693,\n",
       "       -1.56610693,  0.82737724,  0.82737724,  0.82737724, -0.36936484,\n",
       "        0.82737724,  0.82737724,  0.82737724,  0.82737724,  0.82737724,\n",
       "        0.82737724,  0.82737724,  0.82737724,  0.82737724, -1.56610693,\n",
       "        0.82737724, -0.36936484,  0.82737724, -0.36936484,  0.82737724,\n",
       "       -1.56610693,  0.82737724, -0.36936484, -1.56610693, -0.36936484,\n",
       "        0.82737724, -0.36936484,  0.82737724,  0.82737724, -1.56610693,\n",
       "        0.82737724, -0.36936484,  0.82737724, -0.36936484,  0.82737724,\n",
       "       -1.56610693,  0.82737724, -0.36936484,  0.82737724, -0.36936484,\n",
       "        0.82737724, -0.36936484, -0.36936484, -0.36936484, -0.36936484,\n",
       "        0.82737724,  0.82737724, -0.36936484,  0.82737724,  0.82737724,\n",
       "       -1.56610693,  0.82737724, -0.36936484, -1.56610693, -0.36936484,\n",
       "        0.82737724,  0.82737724, -1.56610693,  0.82737724,  0.82737724,\n",
       "        0.82737724, -1.56610693, -1.56610693, -1.56610693, -0.36936484,\n",
       "        0.82737724,  0.82737724, -1.56610693, -1.56610693,  0.82737724,\n",
       "       -0.36936484,  0.82737724,  0.82737724, -1.56610693, -1.56610693,\n",
       "       -1.56610693,  0.82737724, -0.36936484, -1.56610693,  0.82737724,\n",
       "       -1.56610693,  0.82737724, -0.36936484,  0.82737724,  0.82737724,\n",
       "        0.82737724,  0.82737724,  0.82737724,  0.82737724, -1.56610693,\n",
       "        0.82737724,  0.82737724,  0.82737724, -0.36936484,  0.82737724,\n",
       "       -1.56610693, -1.56610693, -0.36936484,  0.82737724,  0.82737724,\n",
       "       -1.56610693,  0.82737724, -1.56610693, -1.56610693, -1.56610693,\n",
       "        0.82737724,  0.82737724,  0.82737724, -0.36936484,  0.82737724,\n",
       "       -1.56610693, -1.56610693, -1.56610693, -0.36936484, -1.56610693,\n",
       "       -1.56610693, -1.56610693, -0.36936484,  0.82737724, -0.36936484,\n",
       "        0.82737724, -0.36936484, -0.36936484, -1.56610693, -1.56610693,\n",
       "        0.82737724,  0.82737724, -0.36936484, -0.36936484,  0.82737724,\n",
       "       -1.56610693,  0.82737724, -0.36936484,  0.82737724, -1.56610693,\n",
       "        0.82737724, -1.56610693, -1.56610693,  0.82737724, -1.56610693,\n",
       "        0.82737724, -1.56610693, -1.56610693,  0.82737724, -1.56610693,\n",
       "       -0.36936484, -1.56610693, -0.36936484, -0.36936484, -0.36936484,\n",
       "       -0.36936484, -0.36936484,  0.82737724,  0.82737724,  0.82737724,\n",
       "        0.82737724, -1.56610693,  0.82737724,  0.82737724,  0.82737724,\n",
       "        0.82737724, -1.56610693, -0.36936484,  0.82737724,  0.82737724,\n",
       "        0.82737724, -0.36936484,  0.82737724,  0.82737724,  0.82737724,\n",
       "        0.82737724, -1.56610693,  0.82737724,  0.82737724, -1.56610693,\n",
       "       -1.56610693,  0.82737724,  0.82737724, -1.56610693,  0.82737724,\n",
       "       -1.56610693,  0.82737724, -1.56610693,  0.82737724,  0.82737724,\n",
       "       -1.56610693,  0.82737724,  0.82737724, -1.56610693,  0.82737724,\n",
       "       -0.36936484,  0.82737724, -0.36936484,  0.82737724, -0.36936484,\n",
       "       -1.56610693,  0.82737724,  0.82737724, -1.56610693,  0.82737724,\n",
       "        0.82737724,  0.82737724, -0.36936484, -0.36936484, -0.36936484,\n",
       "        0.82737724,  0.82737724,  0.82737724,  0.82737724,  0.82737724,\n",
       "       -0.36936484,  0.82737724, -0.36936484,  0.82737724,  0.82737724,\n",
       "        0.82737724,  0.82737724, -1.56610693, -0.36936484,  0.82737724,\n",
       "        0.82737724, -0.36936484, -0.36936484, -0.36936484,  0.82737724,\n",
       "        0.82737724,  0.82737724,  0.82737724,  0.82737724,  0.82737724,\n",
       "        0.82737724, -0.36936484, -0.36936484,  0.82737724,  0.82737724,\n",
       "       -1.56610693,  0.82737724, -0.36936484,  0.82737724, -1.56610693,\n",
       "       -1.56610693,  0.82737724, -0.36936484, -1.56610693, -0.36936484,\n",
       "       -0.36936484,  0.82737724,  0.82737724, -0.36936484,  0.82737724,\n",
       "       -1.56610693, -0.36936484, -1.56610693,  0.82737724, -1.56610693,\n",
       "       -0.36936484,  0.82737724, -1.56610693, -1.56610693,  0.82737724,\n",
       "        0.82737724, -1.56610693, -1.56610693, -0.36936484,  0.82737724,\n",
       "       -1.56610693,  0.82737724, -1.56610693, -0.36936484,  0.82737724,\n",
       "        0.82737724, -0.36936484, -1.56610693,  0.82737724,  0.82737724,\n",
       "        0.82737724,  0.82737724, -0.36936484, -0.36936484,  0.82737724,\n",
       "       -1.56610693, -0.36936484,  0.82737724,  0.82737724,  0.82737724,\n",
       "        0.82737724, -0.36936484,  0.82737724,  0.82737724, -1.56610693,\n",
       "        0.82737724, -1.56610693, -1.56610693,  0.82737724,  0.82737724,\n",
       "        0.82737724,  0.82737724, -1.56610693, -1.56610693,  0.82737724,\n",
       "        0.82737724, -1.56610693,  0.82737724, -1.56610693,  0.82737724,\n",
       "        0.82737724,  0.82737724,  0.82737724,  0.82737724, -1.56610693,\n",
       "       -1.56610693, -0.36936484, -1.56610693,  0.82737724,  0.82737724,\n",
       "        0.82737724,  0.82737724, -1.56610693, -1.56610693,  0.82737724,\n",
       "       -1.56610693, -0.36936484,  0.82737724, -0.36936484,  0.82737724,\n",
       "       -1.56610693,  0.82737724,  0.82737724, -1.56610693,  0.82737724,\n",
       "        0.82737724, -0.36936484, -1.56610693,  0.82737724, -0.36936484,\n",
       "       -0.36936484,  0.82737724,  0.82737724,  0.82737724,  0.82737724,\n",
       "       -0.36936484, -1.56610693, -1.56610693,  0.82737724, -1.56610693,\n",
       "       -1.56610693,  0.82737724,  0.82737724, -0.36936484, -1.56610693,\n",
       "       -1.56610693, -0.36936484, -0.36936484,  0.82737724, -0.36936484,\n",
       "       -1.56610693, -0.36936484,  0.82737724,  0.82737724,  0.82737724,\n",
       "       -1.56610693, -1.56610693, -1.56610693, -1.56610693,  0.82737724,\n",
       "        0.82737724,  0.82737724, -0.36936484,  0.82737724,  0.82737724,\n",
       "        0.82737724,  0.82737724,  0.82737724,  0.82737724,  0.82737724,\n",
       "       -0.36936484, -1.56610693, -1.56610693,  0.82737724,  0.82737724,\n",
       "        0.82737724, -0.36936484, -1.56610693,  0.82737724,  0.82737724,\n",
       "       -0.36936484, -1.56610693, -0.36936484, -1.56610693,  0.82737724,\n",
       "       -1.56610693, -0.36936484, -1.56610693,  0.82737724,  0.82737724,\n",
       "        0.82737724, -1.56610693,  0.82737724,  0.82737724, -0.36936484,\n",
       "        0.82737724, -0.36936484,  0.82737724,  0.82737724, -1.56610693,\n",
       "       -0.36936484,  0.82737724, -1.56610693,  0.82737724, -1.56610693,\n",
       "        0.82737724,  0.82737724, -1.56610693, -0.36936484, -1.56610693,\n",
       "        0.82737724,  0.82737724,  0.82737724,  0.82737724,  0.82737724,\n",
       "       -0.36936484,  0.82737724,  0.82737724, -0.36936484, -0.36936484,\n",
       "        0.82737724, -1.56610693,  0.82737724,  0.82737724,  0.82737724,\n",
       "       -1.56610693, -0.36936484, -1.56610693,  0.82737724,  0.82737724,\n",
       "       -1.56610693,  0.82737724, -1.56610693, -1.56610693,  0.82737724,\n",
       "       -0.36936484,  0.82737724, -0.36936484,  0.82737724,  0.82737724,\n",
       "        0.82737724, -1.56610693,  0.82737724,  0.82737724,  0.82737724,\n",
       "       -1.56610693,  0.82737724, -1.56610693,  0.82737724,  0.82737724,\n",
       "        0.82737724, -0.36936484,  0.82737724,  0.82737724,  0.82737724,\n",
       "       -0.36936484,  0.82737724,  0.82737724, -0.36936484, -1.56610693,\n",
       "       -1.56610693,  0.82737724, -1.56610693,  0.82737724,  0.82737724,\n",
       "       -0.36936484, -0.36936484,  0.82737724,  0.82737724, -1.56610693,\n",
       "       -0.36936484, -1.56610693, -0.36936484, -0.36936484, -0.36936484,\n",
       "        0.82737724,  0.82737724,  0.82737724,  0.82737724, -1.56610693,\n",
       "        0.82737724, -1.56610693,  0.82737724,  0.82737724, -0.36936484,\n",
       "       -0.36936484,  0.82737724,  0.82737724,  0.82737724, -1.56610693,\n",
       "       -1.56610693,  0.82737724,  0.82737724,  0.82737724, -1.56610693,\n",
       "       -0.36936484,  0.82737724,  0.82737724, -1.56610693,  0.82737724,\n",
       "       -1.56610693, -1.56610693,  0.82737724,  0.82737724,  0.82737724,\n",
       "       -0.36936484, -0.36936484, -1.56610693, -1.56610693,  0.82737724,\n",
       "       -1.56610693, -1.56610693, -1.56610693,  0.82737724, -0.36936484,\n",
       "        0.82737724, -1.56610693, -0.36936484,  0.82737724,  0.82737724,\n",
       "       -0.36936484,  0.82737724, -0.36936484, -0.36936484, -1.56610693,\n",
       "        0.82737724, -0.36936484,  0.82737724, -0.36936484,  0.82737724,\n",
       "       -1.56610693,  0.82737724, -0.36936484, -0.36936484, -0.36936484,\n",
       "        0.82737724,  0.82737724, -1.56610693,  0.82737724,  0.82737724,\n",
       "       -1.56610693, -1.56610693, -1.56610693,  0.82737724,  0.82737724,\n",
       "       -1.56610693,  0.82737724, -0.36936484, -1.56610693,  0.82737724,\n",
       "       -0.36936484,  0.82737724,  0.82737724,  0.82737724, -0.36936484,\n",
       "       -0.36936484,  0.82737724, -0.36936484,  0.82737724, -1.56610693,\n",
       "        0.82737724,  0.82737724,  0.82737724, -1.56610693,  0.82737724,\n",
       "       -1.56610693, -1.56610693,  0.82737724,  0.82737724,  0.82737724,\n",
       "        0.82737724,  0.82737724, -0.36936484,  0.82737724, -0.36936484,\n",
       "        0.82737724,  0.82737724,  0.82737724,  0.82737724, -1.56610693,\n",
       "        0.82737724, -1.56610693, -1.56610693,  0.82737724,  0.82737724,\n",
       "        0.82737724,  0.82737724,  0.82737724,  0.82737724, -1.56610693,\n",
       "        0.82737724, -0.36936484,  0.82737724, -1.56610693,  0.82737724,\n",
       "       -0.36936484, -1.56610693,  0.82737724,  0.82737724,  0.82737724,\n",
       "       -0.36936484, -0.36936484, -1.56610693,  0.82737724,  0.82737724,\n",
       "        0.82737724, -1.56610693,  0.82737724, -0.36936484, -1.56610693,\n",
       "        0.82737724,  0.82737724, -0.36936484,  0.82737724,  0.82737724,\n",
       "       -1.56610693,  0.82737724, -0.36936484,  0.82737724,  0.82737724,\n",
       "       -1.56610693,  0.82737724, -1.56610693,  0.82737724,  0.82737724,\n",
       "        0.82737724,  0.82737724, -0.36936484,  0.82737724, -1.56610693,\n",
       "        0.82737724, -0.36936484,  0.82737724,  0.82737724,  0.82737724,\n",
       "       -1.56610693,  0.82737724,  0.82737724,  0.82737724, -1.56610693,\n",
       "        0.82737724, -0.36936484, -1.56610693,  0.82737724,  0.82737724,\n",
       "        0.82737724,  0.82737724,  0.82737724, -0.36936484, -1.56610693,\n",
       "        0.82737724,  0.82737724,  0.82737724, -1.56610693, -0.36936484,\n",
       "        0.82737724, -1.56610693, -1.56610693,  0.82737724,  0.82737724,\n",
       "        0.82737724, -0.36936484, -1.56610693,  0.82737724, -0.36936484,\n",
       "       -0.36936484, -0.36936484, -1.56610693,  0.82737724,  0.82737724,\n",
       "        0.82737724, -1.56610693, -1.56610693,  0.82737724, -0.36936484,\n",
       "        0.82737724,  0.82737724,  0.82737724,  0.82737724, -1.56610693,\n",
       "       -0.36936484,  0.82737724,  0.82737724, -0.36936484,  0.82737724,\n",
       "        0.82737724, -0.36936484, -1.56610693,  0.82737724, -1.56610693,\n",
       "        0.82737724])"
      ]
     },
     "execution_count": 205,
     "metadata": {},
     "output_type": "execute_result"
    }
   ],
   "source": [
    "X[:,0]"
   ]
  },
  {
   "cell_type": "code",
   "execution_count": 179,
   "metadata": {},
   "outputs": [
    {
     "data": {
      "text/html": [
       "<div>\n",
       "<style scoped>\n",
       "    .dataframe tbody tr th:only-of-type {\n",
       "        vertical-align: middle;\n",
       "    }\n",
       "\n",
       "    .dataframe tbody tr th {\n",
       "        vertical-align: top;\n",
       "    }\n",
       "\n",
       "    .dataframe thead th {\n",
       "        text-align: right;\n",
       "    }\n",
       "</style>\n",
       "<table border=\"1\" class=\"dataframe\">\n",
       "  <thead>\n",
       "    <tr style=\"text-align: right;\">\n",
       "      <th></th>\n",
       "      <th>Pclass</th>\n",
       "      <th>Sex</th>\n",
       "      <th>Age</th>\n",
       "      <th>SibSp</th>\n",
       "      <th>Parch</th>\n",
       "      <th>logfare</th>\n",
       "      <th>FamilySize</th>\n",
       "      <th>IsAlone</th>\n",
       "      <th>Embarked_C</th>\n",
       "      <th>Embarked_Q</th>\n",
       "      <th>Embarked_S</th>\n",
       "      <th>CabinType_A</th>\n",
       "      <th>CabinType_B</th>\n",
       "      <th>CabinType_C</th>\n",
       "      <th>CabinType_D</th>\n",
       "      <th>CabinType_E</th>\n",
       "      <th>CabinType_F</th>\n",
       "      <th>CabinType_GT</th>\n",
       "      <th>CabinType_No Cabin</th>\n",
       "    </tr>\n",
       "  </thead>\n",
       "  <tbody>\n",
       "    <tr>\n",
       "      <th>0</th>\n",
       "      <td>3</td>\n",
       "      <td>1</td>\n",
       "      <td>22.0</td>\n",
       "      <td>1</td>\n",
       "      <td>0</td>\n",
       "      <td>2.110213</td>\n",
       "      <td>2</td>\n",
       "      <td>0</td>\n",
       "      <td>0</td>\n",
       "      <td>0</td>\n",
       "      <td>1</td>\n",
       "      <td>0</td>\n",
       "      <td>0</td>\n",
       "      <td>0</td>\n",
       "      <td>0</td>\n",
       "      <td>0</td>\n",
       "      <td>0</td>\n",
       "      <td>0</td>\n",
       "      <td>1</td>\n",
       "    </tr>\n",
       "    <tr>\n",
       "      <th>1</th>\n",
       "      <td>1</td>\n",
       "      <td>0</td>\n",
       "      <td>38.0</td>\n",
       "      <td>1</td>\n",
       "      <td>0</td>\n",
       "      <td>4.280593</td>\n",
       "      <td>2</td>\n",
       "      <td>0</td>\n",
       "      <td>1</td>\n",
       "      <td>0</td>\n",
       "      <td>0</td>\n",
       "      <td>0</td>\n",
       "      <td>0</td>\n",
       "      <td>1</td>\n",
       "      <td>0</td>\n",
       "      <td>0</td>\n",
       "      <td>0</td>\n",
       "      <td>0</td>\n",
       "      <td>0</td>\n",
       "    </tr>\n",
       "    <tr>\n",
       "      <th>2</th>\n",
       "      <td>3</td>\n",
       "      <td>0</td>\n",
       "      <td>26.0</td>\n",
       "      <td>0</td>\n",
       "      <td>0</td>\n",
       "      <td>2.188856</td>\n",
       "      <td>1</td>\n",
       "      <td>1</td>\n",
       "      <td>0</td>\n",
       "      <td>0</td>\n",
       "      <td>1</td>\n",
       "      <td>0</td>\n",
       "      <td>0</td>\n",
       "      <td>0</td>\n",
       "      <td>0</td>\n",
       "      <td>0</td>\n",
       "      <td>0</td>\n",
       "      <td>0</td>\n",
       "      <td>1</td>\n",
       "    </tr>\n",
       "    <tr>\n",
       "      <th>3</th>\n",
       "      <td>1</td>\n",
       "      <td>0</td>\n",
       "      <td>35.0</td>\n",
       "      <td>1</td>\n",
       "      <td>0</td>\n",
       "      <td>3.990834</td>\n",
       "      <td>2</td>\n",
       "      <td>0</td>\n",
       "      <td>0</td>\n",
       "      <td>0</td>\n",
       "      <td>1</td>\n",
       "      <td>0</td>\n",
       "      <td>0</td>\n",
       "      <td>1</td>\n",
       "      <td>0</td>\n",
       "      <td>0</td>\n",
       "      <td>0</td>\n",
       "      <td>0</td>\n",
       "      <td>0</td>\n",
       "    </tr>\n",
       "    <tr>\n",
       "      <th>4</th>\n",
       "      <td>3</td>\n",
       "      <td>1</td>\n",
       "      <td>35.0</td>\n",
       "      <td>0</td>\n",
       "      <td>0</td>\n",
       "      <td>2.202765</td>\n",
       "      <td>1</td>\n",
       "      <td>1</td>\n",
       "      <td>0</td>\n",
       "      <td>0</td>\n",
       "      <td>1</td>\n",
       "      <td>0</td>\n",
       "      <td>0</td>\n",
       "      <td>0</td>\n",
       "      <td>0</td>\n",
       "      <td>0</td>\n",
       "      <td>0</td>\n",
       "      <td>0</td>\n",
       "      <td>1</td>\n",
       "    </tr>\n",
       "  </tbody>\n",
       "</table>\n",
       "</div>"
      ],
      "text/plain": [
       "   Pclass  Sex   Age  SibSp  Parch   logfare  FamilySize  IsAlone  Embarked_C  \\\n",
       "0       3    1  22.0      1      0  2.110213           2        0           0   \n",
       "1       1    0  38.0      1      0  4.280593           2        0           1   \n",
       "2       3    0  26.0      0      0  2.188856           1        1           0   \n",
       "3       1    0  35.0      1      0  3.990834           2        0           0   \n",
       "4       3    1  35.0      0      0  2.202765           1        1           0   \n",
       "\n",
       "   Embarked_Q  Embarked_S  CabinType_A  CabinType_B  CabinType_C  CabinType_D  \\\n",
       "0           0           1            0            0            0            0   \n",
       "1           0           0            0            0            1            0   \n",
       "2           0           1            0            0            0            0   \n",
       "3           0           1            0            0            1            0   \n",
       "4           0           1            0            0            0            0   \n",
       "\n",
       "   CabinType_E  CabinType_F  CabinType_GT  CabinType_No Cabin  \n",
       "0            0            0             0                   1  \n",
       "1            0            0             0                   0  \n",
       "2            0            0             0                   1  \n",
       "3            0            0             0                   0  \n",
       "4            0            0             0                   1  "
      ]
     },
     "execution_count": 179,
     "metadata": {},
     "output_type": "execute_result"
    }
   ],
   "source": [
    "X = pd.get_dummies(X)\n",
    "X.head()"
   ]
  },
  {
   "cell_type": "code",
   "execution_count": 365,
   "metadata": {},
   "outputs": [
    {
     "name": "stdout",
     "output_type": "stream",
     "text": [
      "Accuracy:  0.8151260504201681\n",
      "Accuracy:  0.8235294117647058\n",
      "Accuracy:  0.8207282913165266\n"
     ]
    }
   ],
   "source": [
    "from sklearn.linear_model import LogisticRegression\n",
    "from sklearn.svm import SVC\n",
    "from sklearn.ensemble import RandomForestClassifier\n",
    "from sklearn.metrics import accuracy_score\n",
    "from sklearn.model_selection import train_test_split\n",
    "\n",
    "X_train, X_test, y_train, y_test = train_test_split(X,y,test_size=0.4,random_state=0)\n",
    "\n",
    "max_depths = [9,10,11]\n",
    "for max_depth in max_depths:\n",
    "    clf = RandomForestClassifier(n_estimators=1000,max_depth=max_depth,random_state=0)\n",
    "    clf.fit(X_train, y_train)\n",
    "    yp = clf.predict(X_test)\n",
    "\n",
    "    accuracy = accuracy_score(y_test, yp)\n",
    "\n",
    "    print('Accuracy: ', accuracy)"
   ]
  },
  {
   "cell_type": "code",
   "execution_count": 357,
   "metadata": {},
   "outputs": [
    {
     "name": "stdout",
     "output_type": "stream",
     "text": [
      "Accuracy:  0.7979719088883888\n",
      "Accuracy:  0.8159396083303033\n",
      "Accuracy:  0.817085798763209\n",
      "Accuracy:  0.8170908035678215\n",
      "Accuracy:  0.8170807488702668\n",
      "Accuracy:  0.8170807488702668\n",
      "Accuracy:  0.8159646774416954\n",
      "Accuracy:  0.8170908035678215\n",
      "Accuracy:  0.8148385513155693\n",
      "Accuracy:  0.8159646774416954\n"
     ]
    }
   ],
   "source": [
    "from xgboost import XGBClassifier\n",
    "from sklearn.model_selection import cross_val_score\n",
    "\n",
    "\n",
    "#clf = XGBClassifier(n_estimators=1000, learning_rate=.01)\n",
    "Cs = [1,2,3,4,5,6,7,8,9,10]\n",
    "for C in Cs:\n",
    "    clf = SVC(gamma='auto',C=C)\n",
    "    scores = cross_val_score(clf,X,y,cv=4,scoring=\"accuracy\")\n",
    "\n",
    "    print('Accuracy: ', scores.mean())"
   ]
  },
  {
   "cell_type": "code",
   "execution_count": 349,
   "metadata": {},
   "outputs": [
    {
     "data": {
      "text/plain": [
       "0.8126013585654841"
      ]
     },
     "execution_count": 349,
     "metadata": {},
     "output_type": "execute_result"
    }
   ],
   "source": [
    "scores.mean()"
   ]
  },
  {
   "cell_type": "code",
   "execution_count": null,
   "metadata": {},
   "outputs": [],
   "source": []
  }
 ],
 "metadata": {
  "kernelspec": {
   "display_name": "Python 3",
   "language": "python",
   "name": "python3"
  },
  "language_info": {
   "codemirror_mode": {
    "name": "ipython",
    "version": 3
   },
   "file_extension": ".py",
   "mimetype": "text/x-python",
   "name": "python",
   "nbconvert_exporter": "python",
   "pygments_lexer": "ipython3",
   "version": "3.6.4"
  }
 },
 "nbformat": 4,
 "nbformat_minor": 2
}
